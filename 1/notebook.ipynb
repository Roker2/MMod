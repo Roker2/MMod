{
 "cells": [
  {
   "cell_type": "code",
   "execution_count": 1,
   "id": "cf6204c3",
   "metadata": {},
   "outputs": [],
   "source": [
    "import numpy.random as rand\n",
    "import matplotlib.pyplot as plt\n",
    "from scipy import stats\n",
    "\n",
    "import common\n",
    "\n",
    "# количество случайных чисел\n",
    "n = 10000\n",
    "\n",
    "# матрица вероятностей\n",
    "A = [\n",
    "#    0.24, 0.36, 0.40\n",
    "    [0.05, 0.15, 0.25],\n",
    "    [0.07, 0.08, 0.07],\n",
    "    [0.12, 0.13, 0.08]\n",
    "#    0.24, 0.60, 1.00\n",
    "]\n",
    "\n",
    "sum_by_x = []\n",
    "x = 0\n",
    "for i in range(len(A[0])):\n",
    "    for j in range(len(A)):\n",
    "        x += A[j][i]\n",
    "    sum_by_x.append(x)\n",
    "\n",
    "\n",
    "def get_x_index(variant):\n",
    "    for i in range(len(sum_by_x)):\n",
    "        if variant < sum_by_x[i]:\n",
    "            return i\n",
    "\n",
    "\n",
    "def get_y_index(variant, x_index):\n",
    "    y = 0\n",
    "    for i in range(len(A)):\n",
    "        y += A[i][x_index]\n",
    "        # print(y)\n",
    "        if variant < y:\n",
    "            return i\n",
    "    print(\"ERROR: variant = \", variant)\n",
    "\n",
    "\n",
    "result = [\n",
    "    [0, 0, 0],\n",
    "    [0, 0, 0],\n",
    "    [0, 0, 0]\n",
    "]"
   ]
  },
  {
   "cell_type": "code",
   "execution_count": 2,
   "id": "607d3e34",
   "metadata": {},
   "outputs": [],
   "source": [
    "# возьмем n случайных чисел по оси X и по оси Y\n",
    "\n",
    "rand_x = rand.randint(0, 99, n) / 100\n",
    "rand_y = rand.randint(0, 99, n) / 100"
   ]
  },
  {
   "cell_type": "code",
   "execution_count": 3,
   "id": "82c75919",
   "metadata": {},
   "outputs": [],
   "source": [
    "# полученные числа кладем в матрицу result\n",
    "\n",
    "xs = []\n",
    "ys = []\n",
    "for i in range(n):\n",
    "    x_index = get_x_index(rand_x[i])  # определяем индекс для данного числа  x\n",
    "    xs.append(x_index)\n",
    "    sum_one_line = 0\n",
    "    for j in range(len(A)):\n",
    "        sum_one_line += A[j][x_index]\n",
    "    # изначально y может принимать значения [0, 1)\n",
    "    # умножим полученный y на максимальное значение, которое возможно принять в столбце под индексом x_index матрицы A\n",
    "    y_variant = rand_y[i] * sum_one_line\n",
    "    y_index = get_y_index(y_variant, x_index)\n",
    "    ys.append(y_index)\n",
    "    result[y_index][x_index] += 1  # x_index и y_index это индекс вероятности, в которую произошло попадание"
   ]
  },
  {
   "cell_type": "code",
   "execution_count": 4,
   "id": "3d745d37",
   "metadata": {},
   "outputs": [
    {
     "name": "stdout",
     "output_type": "stream",
     "text": [
      "Heatmap оригинальной матрицы\n"
     ]
    },
    {
     "data": {
      "image/png": "[encoded data removed]",
      "text/plain": [
       "<Figure size 432x288 with 1 Axes>"
      ]
     },
     "metadata": {
      "needs_background": "light"
     },
     "output_type": "display_data"
    }
   ],
   "source": [
    "print(\"Heatmap оригинальной матрицы\")\n",
    "plt.imshow(A, cmap='hot', interpolation='nearest')\n",
    "plt.show()"
   ]
  },
  {
   "cell_type": "code",
   "execution_count": 5,
   "id": "999309a4",
   "metadata": {},
   "outputs": [
    {
     "name": "stdout",
     "output_type": "stream",
     "text": [
      "Heatmap полученной матрицы матрицы\n"
     ]
    },
    {
     "data": {
      "image/png": "[encoded data removed]",
      "text/plain": [
       "<Figure size 432x288 with 1 Axes>"
      ]
     },
     "metadata": {
      "needs_background": "light"
     },
     "output_type": "display_data"
    }
   ],
   "source": [
    "print(\"Heatmap полученной матрицы матрицы\")\n",
    "plt.imshow(result, cmap='hot', interpolation='nearest')\n",
    "plt.show()"
   ]
  },
  {
   "cell_type": "code",
   "execution_count": 6,
   "id": "432f4dcf",
   "metadata": {},
   "outputs": [
    {
     "name": "stdout",
     "output_type": "stream",
     "text": [
      "Heatmap матриц похожи, но незначительно отличаются\n"
     ]
    }
   ],
   "source": [
    "print(\"Heatmap матриц похожи, но незначительно отличаются\")"
   ]
  },
  {
   "cell_type": "code",
   "execution_count": 7,
   "id": "3dd4f134",
   "metadata": {},
   "outputs": [
    {
     "name": "stdout",
     "output_type": "stream",
     "text": [
      "E[X] of A: 0.6133333333333334\n",
      "E[Y] of A: 0.3333333333333333\n"
     ]
    }
   ],
   "source": [
    "print(\"E[X] of A:\", common.expectation(sum_by_x))\n",
    "A_ys = []\n",
    "for y_row in A:\n",
    "    A_ys.append(sum(y_row))\n",
    "print(\"E[Y] of A:\", common.expectation(A_ys))"
   ]
  },
  {
   "cell_type": "code",
   "execution_count": 8,
   "id": "409fc653",
   "metadata": {},
   "outputs": [
    {
     "name": "stdout",
     "output_type": "stream",
     "text": [
      "E[X] of result: 1.1373\n",
      "E[Y] of result: 0.8783\n",
      "Мат. ожидания отличаются значительно\n"
     ]
    }
   ],
   "source": [
    "print(\"E[X] of result:\", common.expectation(xs))\n",
    "print(\"E[Y] of result:\", common.expectation(ys))\n",
    "print(\"Мат. ожидания отличаются значительно\")"
   ]
  },
  {
   "cell_type": "code",
   "execution_count": 9,
   "id": "699c0f7f",
   "metadata": {},
   "outputs": [
    {
     "name": "stdout",
     "output_type": "stream",
     "text": [
      "Коэффициент корреляции матрицы A: -0.4954199218777656\n"
     ]
    }
   ],
   "source": [
    "print(\"Коэффициент корреляции матрицы A:\", common.correlation_coefficient(sum_by_x, A_ys))"
   ]
  },
  {
   "cell_type": "code",
   "execution_count": 10,
   "id": "774ef3d1",
   "metadata": {},
   "outputs": [
    {
     "name": "stdout",
     "output_type": "stream",
     "text": [
      "Коэффициент корреляции матрицы result: -0.3157442119296872\n"
     ]
    }
   ],
   "source": [
    "print(\"Коэффициент корреляции матрицы result:\", common.correlation_coefficient(xs, ys))"
   ]
  },
  {
   "cell_type": "code",
   "execution_count": 11,
   "id": "a3bd3414",
   "metadata": {},
   "outputs": [
    {
     "name": "stdout",
     "output_type": "stream",
     "text": [
      "Доверительный интервал для E[X] матрицы A: (0.504296757695018, 0.7223699089716488)\n",
      "Доверительный интервал для E[Y] матрицы A: (0.3233500490786259, 0.3433166175880407)\n"
     ]
    }
   ],
   "source": [
    "print(\"Доверительный интервал для E[X] матрицы A:\", common.get_m_interval(values=sum_by_x))\n",
    "print(\"Доверительный интервал для E[Y] матрицы A:\", common.get_m_interval(values=A_ys))"
   ]
  },
  {
   "cell_type": "code",
   "execution_count": 12,
   "id": "80a385c8",
   "metadata": {},
   "outputs": [
    {
     "name": "stdout",
     "output_type": "stream",
     "text": [
      "Доверительный интервал для E[X] матрицы result: (1.1254802452840011, 1.1491197547159988)\n",
      "Доверительный интервал для E[Y] матрицы result: (0.8632454534439994, 0.8933545465560006)\n"
     ]
    }
   ],
   "source": [
    "print(\"Доверительный интервал для E[X] матрицы result:\", common.get_m_interval(values=xs))\n",
    "print(\"Доверительный интервал для E[Y] матрицы result:\", common.get_m_interval(values=ys))"
   ]
  },
  {
   "cell_type": "code",
   "execution_count": 13,
   "id": "b0fbc747",
   "metadata": {},
   "outputs": [
    {
     "name": "stdout",
     "output_type": "stream",
     "text": [
      "Хи квадрат: 0.0025462109759551606\n"
     ]
    }
   ],
   "source": [
    "chi2 = common.get_xi_2(A, result, n)\n",
    "print(\"Хи квадрат:\", chi2)"
   ]
  },
  {
   "cell_type": "code",
   "execution_count": 14,
   "id": "78a0a2d7",
   "metadata": {},
   "outputs": [
    {
     "name": "stdout",
     "output_type": "stream",
     "text": [
      "Data is great\n"
     ]
    }
   ],
   "source": [
    "print(\"Data is great\" if chi2 < 15.5 else \"Data is bad\")"
   ]
  },
  {
   "cell_type": "code",
   "execution_count": null,
   "id": "06c0b367",
   "metadata": {},
   "outputs": [],
   "source": []
  }
 ],
 "metadata": {
  "kernelspec": {
   "display_name": "Python 3 (ipykernel)",
   "language": "python",
   "name": "python3"
  },
  "language_info": {
   "codemirror_mode": {
    "name": "ipython",
    "version": 3
   },
   "file_extension": ".py",
   "mimetype": "text/x-python",
   "name": "python",
   "nbconvert_exporter": "python",
   "pygments_lexer": "ipython3",
   "version": "3.9.6"
  }
 },
 "nbformat": 4,
 "nbformat_minor": 5
}
