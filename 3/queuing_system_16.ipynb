{
 "cells": [
  {
   "cell_type": "markdown",
   "metadata": {
    "collapsed": true,
    "pycharm": {
     "name": "#%% md\n"
    }
   },
   "source": [
    "# СМО"
   ]
  },
  {
   "cell_type": "code",
   "execution_count": 1,
   "metadata": {
    "pycharm": {
     "is_executing": false,
     "name": "#%%\n"
    }
   },
   "outputs": [],
   "source": [
    "import simpy\n",
    "import numpy as np\n",
    "import math\n",
    "from functools import reduce\n",
    "import matplotlib.pyplot as plt\n",
    "\n",
    "import common"
   ]
  },
  {
   "cell_type": "markdown",
   "metadata": {
    "pycharm": {
     "name": "#%% md\n"
    }
   },
   "source": [
    "## Тестовая функция"
   ]
  },
  {
   "cell_type": "code",
   "execution_count": 2,
   "metadata": {
    "pycharm": {
     "is_executing": false,
     "name": "#%%\n"
    }
   },
   "outputs": [],
   "source": [
    "def test_queuing_system(n, lambd, mu, test_time, p_bad, r_bad):\n",
    "    env = simpy.Environment()\n",
    "    qs = common.QueuingSystem(n, lambd, mu, env, p_bad, r_bad)\n",
    "    env.process(common.run_queuing_system(qs, env))\n",
    "    env.run(until=test_time)\n",
    "    return qs.t_queuing_system_lst, qs.L_queue_lst, qs.t_queue_lst, qs.L_queuing_system_lst, qs.queque_len, qs.r_count, qs.all_count"
   ]
  },
  {
   "cell_type": "markdown",
   "metadata": {
    "pycharm": {
     "name": "#%% md\n"
    }
   },
   "source": [
    "## Эмпирические характеристики СМО"
   ]
  },
  {
   "cell_type": "code",
   "execution_count": 3,
   "metadata": {
    "pycharm": {
     "is_executing": false,
     "name": "#%%\n"
    }
   },
   "outputs": [],
   "source": [
    "def get_empirical_characteristic(test_results, n, lambd, mu):\n",
    "    t_queuing_system_lst, L_queue_lst, t_queue_lst, L_queuing_system_lst, queque_len, r_count, all_count = test_results\n",
    "    p = []\n",
    "    for i in range(n + queque_len + 1):\n",
    "        request_frequency = reduce(lambda count, x: count + 1 if x == i else count, L_queuing_system_lst, 0)\n",
    "        p.append(request_frequency / len(L_queuing_system_lst))\n",
    "    Q = 1\n",
    "    A = lambd * Q\n",
    "    L_queue = sum(L_queue_lst) / len(L_queue_lst)\n",
    "    n_occuped = Q * lambd / mu\n",
    "    L_queuing_system = sum(L_queuing_system_lst) / len(L_queuing_system_lst)\n",
    "    t_queuing_system = sum(t_queuing_system_lst) / len(t_queuing_system_lst)\n",
    "    t_queue = sum(t_queue_lst) / len(t_queue_lst)\n",
    "\n",
    "    r_bad_emp = r_count / all_count\n",
    "    RQ = A * r_bad_emp\n",
    "\n",
    "    return p, A, L_queuing_system, L_queue, t_queuing_system, t_queue, n_occuped, RQ"
   ]
  },
  {
   "cell_type": "markdown",
   "metadata": {},
   "source": [
    "## Теоритические характеристики СМО"
   ]
  },
  {
   "cell_type": "code",
   "execution_count": 4,
   "metadata": {
    "pycharm": {
     "is_executing": false,
     "name": "#%%\n"
    }
   },
   "outputs": [],
   "source": [
    "def get_p_0(ro, n):\n",
    "    p_0 = 1\n",
    "\n",
    "    for i in range(1, n):\n",
    "        p_0 += (ro ** i) / math.factorial(i)\n",
    "\n",
    "    p_0 += ((ro ** n) / math.factorial(n)) * (1 / (n - ro))\n",
    "    p_0 = p_0 ** -1\n",
    "    return p_0\n",
    "\n",
    "def get_theoretical_characteristic(n, m, lambd, mu, p_bad, r_bad):\n",
    "    ro = lambd / mu\n",
    "    p = []\n",
    "    p_0 = get_p_0(ro, n)\n",
    "    p.append(p_0)\n",
    "    for k in range(1, n + 1):\n",
    "        p_k = ro ** k / math.factorial(k) * p_0\n",
    "        p.append(p_k)\n",
    "    for i in range(1, m + 1):\n",
    "        p_n_i = ro ** (n + i) * p_0 / (n ** i * math.factorial(n))\n",
    "        p.append(p_n_i)\n",
    "    Q = 1\n",
    "    A = lambd * Q\n",
    "    L_queue = ro ** (n + 1) / math.factorial(n) * n / (n - ro) ** 2 * p_0\n",
    "    n_occuped = Q * lambd / mu\n",
    "    L_queuing_system = ro\n",
    "    t_queuing_system = L_queuing_system / lambd\n",
    "    t_queue = L_queue / lambd\n",
    "\n",
    "    RQ = A * (p_bad * r_bad)\n",
    "\n",
    "    return p, A, L_queuing_system, L_queue, t_queuing_system, t_queue, n_occuped, RQ"
   ]
  },
  {
   "cell_type": "markdown",
   "metadata": {
    "pycharm": {
     "name": "#%% md\n"
    }
   },
   "source": [
    "## Тесты"
   ]
  },
  {
   "cell_type": "markdown",
   "metadata": {
    "pycharm": {
     "name": "#%% md\n"
    }
   },
   "source": [
    "### Тест №1\n",
    "n=3, $\\lambda$=2, $\\mu$=1, q = 0.5, R = 0.5"
   ]
  },
  {
   "cell_type": "code",
   "execution_count": 5,
   "metadata": {
    "pycharm": {
     "is_executing": false,
     "name": "#%%\n"
    },
    "scrolled": false
   },
   "outputs": [
    {
     "name": "stdout",
     "output_type": "stream",
     "text": [
      "Теоритическое p0:  0.15789473684210528\n",
      "Теоритическое p1:  0.31578947368421056\n",
      "Теоритическое p2:  0.31578947368421056\n",
      "Теоритическое p3:  0.2105263157894737\n",
      "Теоритическое p4:  0.14035087719298248\n",
      "Теоритическое p5:  0.09356725146198831\n",
      "Теоритическое p6:  0.062378167641325546\n",
      "Теоритическое p7:  0.04158544509421703\n",
      "Теоритическое p8:  0.027723630062811352\n",
      "Теоритическое p9:  0.018482420041874236\n",
      "Теоритическое p10:  0.01232161336124949\n",
      "Теоритическое p11:  0.00821440890749966\n",
      "Теоритическое p12:  0.005476272604999773\n",
      "Теоритическое p13:  0.0036508484033331823\n",
      "Теоритическое p14:  0.002433898935555455\n",
      "Теоритическое p15:  0.0016225992903703033\n",
      "Теоритическое p16:  0.0010817328602468687\n",
      "Теоритическое p17:  0.0007211552401645792\n",
      "Теоритическое p18:  0.0004807701601097195\n",
      "Теоритическое p19:  0.0003205134400731463\n",
      "Теоритическое p20:  0.00021367562671543088\n",
      "Теоритическое A (абсолютная пропускная способность):  2\n",
      "Теоритическое L СМО (среднее число заявок в СМО):  2.0\n",
      "Теоритическое L очереди (среднее число заявок в очереди):  1.2631578947368423\n",
      "Теоритическое t СМО (среднее время пребывания заявки в СМО):  1.0\n",
      "Теоритическое t очереди (среднее время пребывания заявки в очереди):  0.6315789473684211\n",
      "Теоритическое n занятости (среднее число занятых каналов):  2.0\n",
      "Теоритическое RQ рекламаций (среднее число рекламаций за единицу времени):  0.5\n",
      "\n",
      "Эмпирическое p0:  0.10893420854837901\n",
      "Эмпирическое p1:  0.21456130680964072\n",
      "Эмпирическое p2:  0.21401012176178785\n",
      "Эмпирическое p3:  0.14426015934258657\n",
      "Эмпирическое p4:  0.10397354311770306\n",
      "Эмпирическое p5:  0.07070200932003808\n",
      "Эмпирическое p6:  0.04700105226236408\n",
      "Эмпирическое p7:  0.03422358069850178\n",
      "Эмпирическое p8:  0.023049556546575138\n",
      "Эмпирическое p9:  0.01403016485443704\n",
      "Эмпирическое p10:  0.009771007666482938\n",
      "Эмпирическое p11:  0.00526131182041389\n",
      "Эмпирическое p12:  0.0042591571879541015\n",
      "Эмпирическое p13:  0.002555494312772461\n",
      "Эмпирическое p14:  0.0016034474119356616\n",
      "Эмпирическое p15:  0.0007015082427218519\n",
      "Эмпирическое p16:  0.00025053865811494716\n",
      "Эмпирическое p17:  0.0002004309264919577\n",
      "Эмпирическое p18:  0.0004008618529839154\n",
      "Эмпирическое p19:  0.00025053865811494716\n",
      "Эмпирическое p20:  0.0\n",
      "Эмпирическое A (абсолютная пропускная способность):  2\n",
      "Эмпирическое L СМО (среднее число заявок в СМО):  2.9692839605151073\n",
      "Эмпирическое L очереди (среднее число заявок в очереди):  0.9392193215413138\n",
      "Эмпирическое t СМО (среднее время пребывания заявки в СМО):  1.4770898149863139\n",
      "Эмпирическое t очереди (среднее время пребывания заявки в очереди):  0.46502034219391286\n",
      "Эмпирическое n занятости (среднее число занятых каналов):  2.0\n",
      "Эмпирическое RQ рекламаций (среднее число рекламаций за единицу времени):  0.501302866305873\n",
      "\n",
      "Тест хи-квадрат: 0.9518883135353853\n"
     ]
    },
    {
     "data": {
      "image/png": "[encoded data removed]",
      "text/plain": [
       "<Figure size 432x288 with 1 Axes>"
      ]
     },
     "metadata": {
      "needs_background": "light"
     },
     "output_type": "display_data"
    }
   ],
   "source": [
    "n = 3\n",
    "lambd = 2\n",
    "mu = 1\n",
    "p_bad = 0.5\n",
    "r_bad = 0.5\n",
    "\n",
    "\n",
    "test_results = test_queuing_system(n, lambd, mu, 10000, p_bad, r_bad)\n",
    "empirical_characteristic = get_empirical_characteristic(test_results, n, lambd, mu)\n",
    "theoretical_characteristic = get_theoretical_characteristic(n, common.get_queque_len_from_results(test_results), lambd, mu, p_bad, r_bad)\n",
    "\n",
    "common.display(theoretical_characteristic, 'Теоритическое')\n",
    "common.display(empirical_characteristic, 'Эмпирическое')\n",
    "\n",
    "t_estimation_lst = theoretical_characteristic[0] + [\n",
    "    theoretical_characteristic[i] for i in range(1, len(theoretical_characteristic))\n",
    "]\n",
    "e_estimation_lst = empirical_characteristic[0] + [\n",
    "    empirical_characteristic[i] for i in range(1, len(empirical_characteristic))\n",
    "]\n",
    "\n",
    "chi2_estimation = common.get_xi_2(e_estimation_lst, t_estimation_lst)\n",
    "print('Тест хи-квадрат:', chi2_estimation)\n",
    "\n",
    "common.p_graph(theoretical_characteristic, empirical_characteristic)"
   ]
  },
  {
   "cell_type": "markdown",
   "metadata": {},
   "source": [
    "### Тест №2\n",
    "n=3, $\\lambda$=5, $\\mu$=2, q=0.4, R=0.4"
   ]
  },
  {
   "cell_type": "code",
   "execution_count": 6,
   "metadata": {
    "pycharm": {
     "is_executing": false
    }
   },
   "outputs": [
    {
     "name": "stdout",
     "output_type": "stream",
     "text": [
      "Теоритическое p0:  0.08450704225352114\n",
      "Теоритическое p1:  0.21126760563380284\n",
      "Теоритическое p2:  0.26408450704225356\n",
      "Теоритическое p3:  0.22007042253521128\n",
      "Теоритическое p4:  0.18339201877934275\n",
      "Теоритическое p5:  0.15282668231611896\n",
      "Теоритическое p6:  0.1273555685967658\n",
      "Теоритическое p7:  0.10612964049730483\n",
      "Теоритическое p8:  0.08844136708108737\n",
      "Теоритическое p9:  0.07370113923423947\n",
      "Теоритическое p10:  0.06141761602853289\n",
      "Теоритическое p11:  0.05118134669044407\n",
      "Теоритическое p12:  0.042651122242036724\n",
      "Теоритическое p13:  0.03554260186836394\n",
      "Теоритическое p14:  0.029618834890303286\n",
      "Теоритическое p15:  0.02468236240858607\n",
      "Теоритическое p16:  0.020568635340488393\n",
      "Теоритическое p17:  0.017140529450406995\n",
      "Теоритическое p18:  0.014283774542005826\n",
      "Теоритическое p19:  0.011903145451671523\n",
      "Теоритическое p20:  0.009919287876392936\n",
      "Теоритическое p21:  0.008266073230327447\n",
      "Теоритическое p22:  0.0068883943586062054\n",
      "Теоритическое p23:  0.005740328632171838\n",
      "Теоритическое p24:  0.004783607193476531\n",
      "Теоритическое p25:  0.00398633932789711\n",
      "Теоритическое p26:  0.003321949439914258\n",
      "Теоритическое p27:  0.002768291199928548\n",
      "Теоритическое p28:  0.0023069093332737903\n",
      "Теоритическое p29:  0.001922424444394825\n",
      "Теоритическое p30:  0.001602020370329021\n",
      "Теоритическое p31:  0.0013350169752741842\n",
      "Теоритическое p32:  0.0011125141460618202\n",
      "Теоритическое p33:  0.0009270951217181835\n",
      "Теоритическое p34:  0.0007725792680984862\n",
      "Теоритическое p35:  0.0006438160567487385\n",
      "Теоритическое p36:  0.0005365133806239488\n",
      "Теоритическое p37:  0.00044709448385329064\n",
      "Теоритическое p38:  0.00037257873654440883\n",
      "Теоритическое p39:  0.000310482280453674\n",
      "Теоритическое p40:  0.0002587352337113951\n",
      "Теоритическое p41:  0.00021561269475949587\n",
      "Теоритическое p42:  0.00017967724563291323\n",
      "Теоритическое p43:  0.00014973103802742768\n",
      "Теоритическое p44:  0.00012477586502285642\n",
      "Теоритическое p45:  0.00010397988751904701\n",
      "Теоритическое p46:  8.66499062658725e-05\n",
      "Теоритическое p47:  7.220825522156042e-05\n",
      "Теоритическое A (абсолютная пропускная способность):  5\n",
      "Теоритическое L СМО (среднее число заявок в СМО):  2.5\n",
      "Теоритическое L очереди (среднее число заявок в очереди):  6.602112676056339\n",
      "Теоритическое t СМО (среднее время пребывания заявки в СМО):  0.5\n",
      "Теоритическое t очереди (среднее время пребывания заявки в очереди):  1.3204225352112677\n",
      "Теоритическое n занятости (среднее число занятых каналов):  2.5\n",
      "Теоритическое RQ рекламаций (среднее число рекламаций за единицу времени):  0.8000000000000002\n",
      "\n",
      "Эмпирическое p0:  0.040505579144860276\n",
      "Эмпирическое p1:  0.10581613508442776\n",
      "Эмпирическое p2:  0.13780981534511702\n",
      "Эмпирическое p3:  0.11561173101609559\n",
      "Эмпирическое p4:  0.09779796583390934\n",
      "Эмпирическое p5:  0.08320331786313814\n",
      "Эмпирическое p6:  0.0697738718277871\n",
      "Эмпирическое p7:  0.058832823146045224\n",
      "Эмпирическое p8:  0.050577663671373556\n",
      "Эмпирическое p9:  0.04159178433889602\n",
      "Эмпирическое p10:  0.033455119976300976\n",
      "Эмпирическое p11:  0.027273624962970276\n",
      "Эмпирическое p12:  0.02180310062209934\n",
      "Эмпирическое p13:  0.017458279845956354\n",
      "Эмпирическое p14:  0.014871136565616668\n",
      "Эмпирическое p15:  0.013212204996543893\n",
      "Эмпирическое p16:  0.010960797867087983\n",
      "Эмпирическое p17:  0.009124123629900267\n",
      "Эмпирическое p18:  0.007366446134096968\n",
      "Эмпирическое p19:  0.006477732793522267\n",
      "Эмпирическое p20:  0.005391527599486521\n",
      "Эмпирическое p21:  0.0049372963365261185\n",
      "Эмпирическое p22:  0.0039893354399131034\n",
      "Эмпирическое p23:  0.0030611237286461935\n",
      "Эмпирическое p24:  0.0022316579441098053\n",
      "Эмпирическое p25:  0.0020934136466870742\n",
      "Эмпирическое p26:  0.0015996840130344623\n",
      "Эмпирическое p27:  0.00150093808630394\n",
      "Эмпирическое p28:  0.0013626937888812087\n",
      "Эмпирическое p29:  0.0011059543793818505\n",
      "Эмпирическое p30:  0.0012639478621506862\n",
      "Эмпирическое p31:  0.0012244494914584773\n",
      "Эмпирическое p32:  0.0010072084526513282\n",
      "Эмпирическое p33:  0.0009282117112669102\n",
      "Эмпирическое p34:  0.0010664560086896416\n",
      "Эмпирическое p35:  0.001165201935420164\n",
      "Эмпирическое p36:  0.0007307198578058655\n",
      "Эмпирическое p37:  0.0005924755603831342\n",
      "Эмпирическое p38:  0.00033573615088377607\n",
      "Эмпирическое p39:  0.00017774266811494026\n",
      "Эмпирическое p40:  0.00015799348276883578\n",
      "Эмпирическое p41:  0.00015799348276883578\n",
      "Эмпирическое p42:  0.00015799348276883578\n",
      "Эмпирическое p43:  9.874592673052236e-05\n",
      "Эмпирическое p44:  5.924755603831342e-05\n",
      "Эмпирическое p45:  5.924755603831342e-05\n",
      "Эмпирическое p46:  1.9749185346104472e-05\n",
      "Эмпирическое p47:  0.0\n",
      "Эмпирическое A (абсолютная пропускная способность):  5\n",
      "Эмпирическое L СМО (среднее число заявок в СМО):  6.202073664461341\n",
      "Эмпирическое L очереди (среднее число заявок в очереди):  3.6730324874098943\n",
      "Эмпирическое t СМО (среднее время пребывания заявки в СМО):  1.2306570484795867\n",
      "Эмпирическое t очереди (среднее время пребывания заявки в очереди):  0.7302061394884164\n",
      "Эмпирическое n занятости (среднее число занятых каналов):  2.5\n",
      "Эмпирическое RQ рекламаций (среднее число рекламаций за единицу времени):  0.8090384767322429\n",
      "\n",
      "Тест хи-квадрат: 8.529202157747559\n"
     ]
    },
    {
     "data": {
      "image/png": "[encoded data removed]",
      "text/plain": [
       "<Figure size 432x288 with 1 Axes>"
      ]
     },
     "metadata": {
      "needs_background": "light"
     },
     "output_type": "display_data"
    }
   ],
   "source": [
    "n = 3\n",
    "lambd = 5\n",
    "mu = 2\n",
    "p_bad = 0.4\n",
    "r_bad = 0.4\n",
    "\n",
    "test_results = test_queuing_system(n, lambd, mu, 10000, p_bad, r_bad)\n",
    "empirical_characteristic = get_empirical_characteristic(test_results, n, lambd, mu)\n",
    "theoretical_characteristic = get_theoretical_characteristic(n, common.get_queque_len_from_results(test_results), lambd, mu, p_bad, r_bad)\n",
    "\n",
    "common.display(theoretical_characteristic, 'Теоритическое')\n",
    "common.display(empirical_characteristic, 'Эмпирическое')\n",
    "\n",
    "t_estimation_lst = theoretical_characteristic[0] + [\n",
    "    theoretical_characteristic[i] for i in range(1, len(theoretical_characteristic))\n",
    "]\n",
    "e_estimation_lst = empirical_characteristic[0] + [\n",
    "    empirical_characteristic[i] for i in range(1, len(empirical_characteristic))\n",
    "]\n",
    "\n",
    "chi2_estimation = common.get_xi_2(e_estimation_lst, t_estimation_lst)\n",
    "print('Тест хи-квадрат:', chi2_estimation)\n",
    "\n",
    "common.p_graph(theoretical_characteristic, empirical_characteristic)"
   ]
  },
  {
   "cell_type": "markdown",
   "metadata": {},
   "source": [
    "### Тест №3\n",
    "n=7, $\\lambda$=12, $\\mu$=3, q=0.7, R=0.7"
   ]
  },
  {
   "cell_type": "code",
   "execution_count": 8,
   "metadata": {
    "pycharm": {
     "is_executing": false,
     "name": "#%%\n"
    }
   },
   "outputs": [
    {
     "name": "stdout",
     "output_type": "stream",
     "text": [
      "Теоритическое p0:  0.02014538787865868\n",
      "Теоритическое p1:  0.08058155151463472\n",
      "Теоритическое p2:  0.16116310302926945\n",
      "Теоритическое p3:  0.21488413737235926\n",
      "Теоритическое p4:  0.21488413737235926\n",
      "Теоритическое p5:  0.1719073098978874\n",
      "Теоритическое p6:  0.11460487326525828\n",
      "Теоритическое p7:  0.06548849900871902\n",
      "Теоритическое p8:  0.037421999433553725\n",
      "Теоритическое p9:  0.021383999676316413\n",
      "Теоритическое p10:  0.012219428386466521\n",
      "Теоритическое p11:  0.006982530506552298\n",
      "Теоритическое p12:  0.003990017432315599\n",
      "Теоритическое p13:  0.0022800099613231994\n",
      "Теоритическое p14:  0.0013028628350418281\n",
      "Теоритическое p15:  0.0007444930485953304\n",
      "Теоритическое p16:  0.00042542459919733166\n",
      "Теоритическое p17:  0.00024309977096990382\n",
      "Теоритическое p18:  0.00013891415483994503\n",
      "Теоритическое p19:  7.937951705139717e-05\n",
      "Теоритическое p20:  4.535972402936981e-05\n",
      "Теоритическое p21:  2.591984230249703e-05\n",
      "Теоритическое p22:  1.4811338458569733e-05\n",
      "Теоритическое p23:  8.463621976325561e-06\n",
      "Теоритическое p24:  4.836355415043178e-06\n",
      "Теоритическое A (абсолютная пропускная способность):  12\n",
      "Теоритическое L СМО (среднее число заявок в СМО):  4.0\n",
      "Теоритическое L очереди (среднее число заявок в очереди):  0.20374199691601472\n",
      "Теоритическое t СМО (среднее время пребывания заявки в СМО):  0.3333333333333333\n",
      "Теоритическое t очереди (среднее время пребывания заявки в очереди):  0.016978499743001228\n",
      "Теоритическое n занятости (среднее число занятых каналов):  4.0\n",
      "Теоритическое RQ рекламаций (среднее число рекламаций за единицу времени):  1.2000000000000002\n",
      "\n",
      "Эмпирическое p0:  0.018171521844134647\n",
      "Эмпирическое p1:  0.06932993554189777\n",
      "Эмпирическое p2:  0.13858491980212861\n",
      "Эмпирическое p3:  0.1874031879278469\n",
      "Эмпирическое p4:  0.19025966455137494\n",
      "Эмпирическое p5:  0.1537500624594014\n",
      "Эмпирическое p6:  0.10323289861589967\n",
      "Эмпирическое p7:  0.05975282732890288\n",
      "Эмпирическое p8:  0.03473575509252319\n",
      "Эмпирическое p9:  0.019295791069138393\n",
      "Эмпирическое p10:  0.010576458635220441\n",
      "Эмпирическое p11:  0.006395842702243542\n",
      "Эмпирическое p12:  0.003597661520011992\n",
      "Эмпирическое p13:  0.001965389163710255\n",
      "Эмпирическое p14:  0.0011908925864854512\n",
      "Эмпирическое p15:  0.0005829544129649062\n",
      "Эмпирическое p16:  0.00045803561018671195\n",
      "Эмпирическое p17:  0.00029980512666766604\n",
      "Эмпирическое p18:  0.00017488632388947185\n",
      "Эмпирическое p19:  9.16071220373424e-05\n",
      "Эмпирическое p20:  5.829544129649061e-05\n",
      "Эмпирическое p21:  3.331168074085178e-05\n",
      "Эмпирическое p22:  3.331168074085178e-05\n",
      "Эмпирическое p23:  2.4983760555638835e-05\n",
      "Эмпирическое p24:  0.0\n",
      "Эмпирическое A (абсолютная пропускная способность):  12\n",
      "Эмпирическое L СМО (среднее число заявок в СМО):  4.218458002298506\n",
      "Эмпирическое L очереди (среднее число заявок в очереди):  0.18568763636969304\n",
      "Эмпирическое t СМО (среднее время пребывания заявки в СМО):  0.3502940509580395\n",
      "Эмпирическое t очереди (среднее время пребывания заявки в очереди):  0.015409748588853888\n",
      "Эмпирическое n занятости (среднее число занятых каналов):  4.0\n",
      "Эмпирическое RQ рекламаций (среднее число рекламаций за единицу времени):  1.18316052467208\n",
      "\n",
      "Тест хи-квадрат: 0.03047404070582237\n"
     ]
    },
    {
     "data": {
      "image/png": "[encoded data removed]",
      "text/plain": [
       "<Figure size 432x288 with 1 Axes>"
      ]
     },
     "metadata": {
      "needs_background": "light"
     },
     "output_type": "display_data"
    }
   ],
   "source": [
    "n = 7\n",
    "lambd = 12\n",
    "mu = 3\n",
    "p_bad = 0.2\n",
    "r_bad = 0.5\n",
    "\n",
    "test_results = test_queuing_system(n, lambd, mu, 10000, p_bad, r_bad)\n",
    "empirical_characteristic = get_empirical_characteristic(test_results, n, lambd, mu)\n",
    "theoretical_characteristic = get_theoretical_characteristic(n, common.get_queque_len_from_results(test_results), lambd, mu, p_bad, r_bad)\n",
    "\n",
    "common.display(theoretical_characteristic, 'Теоритическое')\n",
    "common.display(empirical_characteristic, 'Эмпирическое')\n",
    "\n",
    "t_estimation_lst = theoretical_characteristic[0] + [\n",
    "    theoretical_characteristic[i] for i in range(1, len(theoretical_characteristic))\n",
    "]\n",
    "e_estimation_lst = empirical_characteristic[0] + [\n",
    "    empirical_characteristic[i] for i in range(1, len(empirical_characteristic))\n",
    "]\n",
    "\n",
    "chi2_estimation = common.get_xi_2(e_estimation_lst, t_estimation_lst)\n",
    "print('Тест хи-квадрат:', chi2_estimation)\n",
    "\n",
    "common.p_graph(theoretical_characteristic, empirical_characteristic)"
   ]
  },
  {
   "cell_type": "code",
   "execution_count": null,
   "metadata": {},
   "outputs": [],
   "source": []
  }
 ],
 "metadata": {
  "kernelspec": {
   "display_name": "Python 3 (ipykernel)",
   "language": "python",
   "name": "python3"
  },
  "language_info": {
   "codemirror_mode": {
    "name": "ipython",
    "version": 3
   },
   "file_extension": ".py",
   "mimetype": "text/x-python",
   "name": "python",
   "nbconvert_exporter": "python",
   "pygments_lexer": "ipython3",
   "version": "3.9.6"
  },
  "pycharm": {
   "stem_cell": {
    "cell_type": "raw",
    "metadata": {
     "collapsed": false
    },
    "source": []
   }
  }
 },
 "nbformat": 4,
 "nbformat_minor": 1
}
